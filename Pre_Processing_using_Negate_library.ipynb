{
  "cells": [
    {
      "cell_type": "code",
      "execution_count": 2,
      "metadata": {
        "id": "akq7Gpnrq8-Y"
      },
      "outputs": [
        {
          "name": "stdout",
          "output_type": "stream",
          "text": [
            "Collecting negateNote: you may need to restart the kernel to use updated packages.\n",
            "\n",
            "  Using cached negate-0.7.6-py3-none-any.whl (18 kB)\n",
            "Requirement already satisfied: lemminflect<0.3.0,>=0.2.3 in c:\\users\\natal\\appdata\\local\\programs\\python\\python311\\lib\\site-packages (from negate) (0.2.3)\n",
            "Collecting spacy-transformers<1.2.0,>=1.1.8\n",
            "  Using cached spacy_transformers-1.1.9-py2.py3-none-any.whl (53 kB)\n",
            "Requirement already satisfied: spacy<3.5.0,>=3.4.1 in c:\\users\\natal\\appdata\\local\\programs\\python\\python311\\lib\\site-packages (from negate) (3.4.4)\n",
            "Requirement already satisfied: numpy in c:\\users\\natal\\appdata\\local\\programs\\python\\python311\\lib\\site-packages (from lemminflect<0.3.0,>=0.2.3->negate) (1.23.5)\n",
            "Requirement already satisfied: spacy-legacy<3.1.0,>=3.0.10 in c:\\users\\natal\\appdata\\local\\programs\\python\\python311\\lib\\site-packages (from spacy<3.5.0,>=3.4.1->negate) (3.0.12)\n",
            "Requirement already satisfied: spacy-loggers<2.0.0,>=1.0.0 in c:\\users\\natal\\appdata\\local\\programs\\python\\python311\\lib\\site-packages (from spacy<3.5.0,>=3.4.1->negate) (1.0.4)\n",
            "Requirement already satisfied: murmurhash<1.1.0,>=0.28.0 in c:\\users\\natal\\appdata\\local\\programs\\python\\python311\\lib\\site-packages (from spacy<3.5.0,>=3.4.1->negate) (1.0.9)\n",
            "Requirement already satisfied: cymem<2.1.0,>=2.0.2 in c:\\users\\natal\\appdata\\local\\programs\\python\\python311\\lib\\site-packages (from spacy<3.5.0,>=3.4.1->negate) (2.0.7)\n",
            "Requirement already satisfied: preshed<3.1.0,>=3.0.2 in c:\\users\\natal\\appdata\\local\\programs\\python\\python311\\lib\\site-packages (from spacy<3.5.0,>=3.4.1->negate) (3.0.8)\n",
            "Requirement already satisfied: thinc<8.2.0,>=8.1.0 in c:\\users\\natal\\appdata\\local\\programs\\python\\python311\\lib\\site-packages (from spacy<3.5.0,>=3.4.1->negate) (8.1.9)\n",
            "Requirement already satisfied: wasabi<1.1.0,>=0.9.1 in c:\\users\\natal\\appdata\\local\\programs\\python\\python311\\lib\\site-packages (from spacy<3.5.0,>=3.4.1->negate) (0.10.1)\n",
            "Requirement already satisfied: srsly<3.0.0,>=2.4.3 in c:\\users\\natal\\appdata\\local\\programs\\python\\python311\\lib\\site-packages (from spacy<3.5.0,>=3.4.1->negate) (2.4.6)\n",
            "Requirement already satisfied: catalogue<2.1.0,>=2.0.6 in c:\\users\\natal\\appdata\\local\\programs\\python\\python311\\lib\\site-packages (from spacy<3.5.0,>=3.4.1->negate) (2.0.8)\n",
            "Requirement already satisfied: typer<0.8.0,>=0.3.0 in c:\\users\\natal\\appdata\\local\\programs\\python\\python311\\lib\\site-packages (from spacy<3.5.0,>=3.4.1->negate) (0.7.0)\n",
            "Requirement already satisfied: pathy>=0.3.5 in c:\\users\\natal\\appdata\\local\\programs\\python\\python311\\lib\\site-packages (from spacy<3.5.0,>=3.4.1->negate) (0.10.1)\n",
            "Requirement already satisfied: smart-open<7.0.0,>=5.2.1 in c:\\users\\natal\\appdata\\local\\programs\\python\\python311\\lib\\site-packages (from spacy<3.5.0,>=3.4.1->negate) (6.3.0)\n",
            "Requirement already satisfied: tqdm<5.0.0,>=4.38.0 in c:\\users\\natal\\appdata\\local\\programs\\python\\python311\\lib\\site-packages (from spacy<3.5.0,>=3.4.1->negate) (4.65.0)\n",
            "Requirement already satisfied: requests<3.0.0,>=2.13.0 in c:\\users\\natal\\appdata\\local\\programs\\python\\python311\\lib\\site-packages (from spacy<3.5.0,>=3.4.1->negate) (2.28.2)\n",
            "Requirement already satisfied: pydantic!=1.8,!=1.8.1,<1.11.0,>=1.7.4 in c:\\users\\natal\\appdata\\local\\programs\\python\\python311\\lib\\site-packages (from spacy<3.5.0,>=3.4.1->negate) (1.10.7)\n",
            "Requirement already satisfied: jinja2 in c:\\users\\natal\\appdata\\local\\programs\\python\\python311\\lib\\site-packages (from spacy<3.5.0,>=3.4.1->negate) (3.1.2)\n",
            "Requirement already satisfied: setuptools in c:\\users\\natal\\appdata\\local\\programs\\python\\python311\\lib\\site-packages (from spacy<3.5.0,>=3.4.1->negate) (65.5.0)\n",
            "Requirement already satisfied: packaging>=20.0 in c:\\users\\natal\\appdata\\roaming\\python\\python311\\site-packages (from spacy<3.5.0,>=3.4.1->negate) (23.0)\n",
            "Requirement already satisfied: langcodes<4.0.0,>=3.2.0 in c:\\users\\natal\\appdata\\local\\programs\\python\\python311\\lib\\site-packages (from spacy<3.5.0,>=3.4.1->negate) (3.3.0)\n",
            "Requirement already satisfied: transformers<4.26.0,>=3.4.0 in c:\\users\\natal\\appdata\\local\\programs\\python\\python311\\lib\\site-packages (from spacy-transformers<1.2.0,>=1.1.8->negate) (4.25.1)\n",
            "Requirement already satisfied: torch>=1.6.0 in c:\\users\\natal\\appdata\\local\\programs\\python\\python311\\lib\\site-packages (from spacy-transformers<1.2.0,>=1.1.8->negate) (2.0.0)\n",
            "Requirement already satisfied: spacy-alignments<1.0.0,>=0.7.2 in c:\\users\\natal\\appdata\\local\\programs\\python\\python311\\lib\\site-packages (from spacy-transformers<1.2.0,>=1.1.8->negate) (0.9.0)\n",
            "Requirement already satisfied: typing-extensions>=4.2.0 in c:\\users\\natal\\appdata\\local\\programs\\python\\python311\\lib\\site-packages (from pydantic!=1.8,!=1.8.1,<1.11.0,>=1.7.4->spacy<3.5.0,>=3.4.1->negate) (4.5.0)\n",
            "Requirement already satisfied: charset-normalizer<4,>=2 in c:\\users\\natal\\appdata\\local\\programs\\python\\python311\\lib\\site-packages (from requests<3.0.0,>=2.13.0->spacy<3.5.0,>=3.4.1->negate) (3.1.0)\n",
            "Requirement already satisfied: idna<4,>=2.5 in c:\\users\\natal\\appdata\\local\\programs\\python\\python311\\lib\\site-packages (from requests<3.0.0,>=2.13.0->spacy<3.5.0,>=3.4.1->negate) (3.4)\n",
            "Requirement already satisfied: urllib3<1.27,>=1.21.1 in c:\\users\\natal\\appdata\\local\\programs\\python\\python311\\lib\\site-packages (from requests<3.0.0,>=2.13.0->spacy<3.5.0,>=3.4.1->negate) (1.26.15)\n",
            "Requirement already satisfied: certifi>=2017.4.17 in c:\\users\\natal\\appdata\\local\\programs\\python\\python311\\lib\\site-packages (from requests<3.0.0,>=2.13.0->spacy<3.5.0,>=3.4.1->negate) (2022.12.7)\n",
            "Requirement already satisfied: blis<0.8.0,>=0.7.8 in c:\\users\\natal\\appdata\\local\\programs\\python\\python311\\lib\\site-packages (from thinc<8.2.0,>=8.1.0->spacy<3.5.0,>=3.4.1->negate) (0.7.9)\n",
            "Requirement already satisfied: confection<1.0.0,>=0.0.1 in c:\\users\\natal\\appdata\\local\\programs\\python\\python311\\lib\\site-packages (from thinc<8.2.0,>=8.1.0->spacy<3.5.0,>=3.4.1->negate) (0.0.4)\n",
            "Requirement already satisfied: filelock in c:\\users\\natal\\appdata\\local\\programs\\python\\python311\\lib\\site-packages (from torch>=1.6.0->spacy-transformers<1.2.0,>=1.1.8->negate) (3.11.0)\n",
            "Requirement already satisfied: sympy in c:\\users\\natal\\appdata\\local\\programs\\python\\python311\\lib\\site-packages (from torch>=1.6.0->spacy-transformers<1.2.0,>=1.1.8->negate) (1.11.1)\n",
            "Requirement already satisfied: networkx in c:\\users\\natal\\appdata\\local\\programs\\python\\python311\\lib\\site-packages (from torch>=1.6.0->spacy-transformers<1.2.0,>=1.1.8->negate) (3.1)\n",
            "Requirement already satisfied: colorama in c:\\users\\natal\\appdata\\roaming\\python\\python311\\site-packages (from tqdm<5.0.0,>=4.38.0->spacy<3.5.0,>=3.4.1->negate) (0.4.6)\n",
            "Requirement already satisfied: huggingface-hub<1.0,>=0.10.0 in c:\\users\\natal\\appdata\\local\\programs\\python\\python311\\lib\\site-packages (from transformers<4.26.0,>=3.4.0->spacy-transformers<1.2.0,>=1.1.8->negate) (0.13.4)\n",
            "Requirement already satisfied: pyyaml>=5.1 in c:\\users\\natal\\appdata\\local\\programs\\python\\python311\\lib\\site-packages (from transformers<4.26.0,>=3.4.0->spacy-transformers<1.2.0,>=1.1.8->negate) (6.0)\n",
            "Requirement already satisfied: regex!=2019.12.17 in c:\\users\\natal\\appdata\\local\\programs\\python\\python311\\lib\\site-packages (from transformers<4.26.0,>=3.4.0->spacy-transformers<1.2.0,>=1.1.8->negate) (2023.3.23)\n",
            "Requirement already satisfied: tokenizers!=0.11.3,<0.14,>=0.11.1 in c:\\users\\natal\\appdata\\local\\programs\\python\\python311\\lib\\site-packages (from transformers<4.26.0,>=3.4.0->spacy-transformers<1.2.0,>=1.1.8->negate) (0.13.3)\n",
            "Requirement already satisfied: click<9.0.0,>=7.1.1 in c:\\users\\natal\\appdata\\local\\programs\\python\\python311\\lib\\site-packages (from typer<0.8.0,>=0.3.0->spacy<3.5.0,>=3.4.1->negate) (8.0.4)\n",
            "Requirement already satisfied: MarkupSafe>=2.0 in c:\\users\\natal\\appdata\\local\\programs\\python\\python311\\lib\\site-packages (from jinja2->spacy<3.5.0,>=3.4.1->negate) (2.1.2)\n",
            "Requirement already satisfied: mpmath>=0.19 in c:\\users\\natal\\appdata\\local\\programs\\python\\python311\\lib\\site-packages (from sympy->torch>=1.6.0->spacy-transformers<1.2.0,>=1.1.8->negate) (1.3.0)\n",
            "Installing collected packages: spacy-transformers, negate\n",
            "Successfully installed negate-0.7.6 spacy-transformers-1.1.9\n"
          ]
        }
      ],
      "source": [
        "%pip install -U --user negate"
      ]
    },
    {
      "cell_type": "code",
      "execution_count": 1,
      "metadata": {
        "id": "c6XVe7bMrAQl"
      },
      "outputs": [],
      "source": [
        "from negate import Negator"
      ]
    },
    {
      "cell_type": "code",
      "execution_count": 2,
      "metadata": {
        "id": "yVyGzemzrOdX"
      },
      "outputs": [
        {
          "name": "stderr",
          "output_type": "stream",
          "text": [
            "c:\\Users\\natal\\AppData\\Local\\Programs\\Python\\Python311\\Lib\\site-packages\\tqdm\\auto.py:21: TqdmWarning: IProgress not found. Please update jupyter and ipywidgets. See https://ipywidgets.readthedocs.io/en/stable/user_install.html\n",
            "  from .autonotebook import tqdm as notebook_tqdm\n"
          ]
        }
      ],
      "source": [
        "negator = Negator()"
      ]
    },
    {
      "cell_type": "code",
      "execution_count": 3,
      "metadata": {
        "id": "zlTYjctOrfn8"
      },
      "outputs": [],
      "source": [
        "sentence = \"Chris Christie likes math.\"\n",
        "\n",
        "negated_sentence = negator.negate_sentence(sentence)"
      ]
    },
    {
      "cell_type": "code",
      "execution_count": 4,
      "metadata": {
        "colab": {
          "base_uri": "https://localhost:8080/"
        },
        "id": "G_g3swt9rkSv",
        "outputId": "5c9f158a-3224-4ce8-b5e4-ceae4878acd2"
      },
      "outputs": [
        {
          "name": "stdout",
          "output_type": "stream",
          "text": [
            "Chris Christie doesn't like math.\n"
          ]
        }
      ],
      "source": [
        "print(negated_sentence)"
      ]
    },
    {
      "cell_type": "code",
      "execution_count": 3,
      "metadata": {
        "id": "airZukt7r5Io"
      },
      "outputs": [],
      "source": [
        "from datasets import load_dataset"
      ]
    },
    {
      "cell_type": "code",
      "execution_count": 7,
      "metadata": {
        "id": "Vt-OBAqor8dj"
      },
      "outputs": [
        {
          "name": "stderr",
          "output_type": "stream",
          "text": [
            "datasets.builder - WARNING: Found cached dataset parquet (C:/Users/natal/.cache/huggingface/datasets/GonzaloA___parquet/GonzaloA--fake_news-1fe2b42e1fa111c8/0.0.0/2a3b91fbd88a2c90d1dbbb32b460cf621d31bd5b05b934492fdef7d8d6f236ec)\n"
          ]
        }
      ],
      "source": [
        "dataset_train = load_dataset(\"GonzaloA/fake_news\", split=\"train\")"
      ]
    },
    {
      "cell_type": "code",
      "execution_count": 6,
      "metadata": {
        "id": "gR2l5b7asB-o"
      },
      "outputs": [
        {
          "name": "stderr",
          "output_type": "stream",
          "text": [
            "datasets.builder - WARNING: Found cached dataset parquet (C:/Users/natal/.cache/huggingface/datasets/GonzaloA___parquet/GonzaloA--fake_news-1fe2b42e1fa111c8/0.0.0/2a3b91fbd88a2c90d1dbbb32b460cf621d31bd5b05b934492fdef7d8d6f236ec)\n"
          ]
        }
      ],
      "source": [
        "dataset_test = load_dataset(\"GonzaloA/fake_news\", split=\"test\")"
      ]
    },
    {
      "cell_type": "code",
      "execution_count": 4,
      "metadata": {
        "id": "Gw_R7iQSsGeU"
      },
      "outputs": [
        {
          "name": "stderr",
          "output_type": "stream",
          "text": [
            "datasets.builder - WARNING: Found cached dataset parquet (C:/Users/natal/.cache/huggingface/datasets/GonzaloA___parquet/GonzaloA--fake_news-1fe2b42e1fa111c8/0.0.0/2a3b91fbd88a2c90d1dbbb32b460cf621d31bd5b05b934492fdef7d8d6f236ec)\n"
          ]
        }
      ],
      "source": [
        "dataset_validation = load_dataset(\"GonzaloA/fake_news\", split=\"validation\")"
      ]
    },
    {
      "cell_type": "code",
      "execution_count": 5,
      "metadata": {
        "id": "bRi1pGPmsKAl"
      },
      "outputs": [],
      "source": [
        "import pandas as pd "
      ]
    },
    {
      "cell_type": "code",
      "execution_count": 9,
      "metadata": {
        "id": "AJoyRfR2sM9v"
      },
      "outputs": [],
      "source": [
        "df_train = pd.DataFrame(dataset_train)\n",
        "df_test = pd.DataFrame(dataset_test)\n",
        "df_validate = pd.DataFrame(dataset_validation)"
      ]
    },
    {
      "cell_type": "code",
      "execution_count": 10,
      "metadata": {
        "id": "uMQtAZm1sVgm"
      },
      "outputs": [],
      "source": [
        "df_train.drop('Unnamed: 0', inplace=True, axis=1)\n",
        "df_test.drop('Unnamed: 0', inplace=True, axis=1)\n",
        "df_validate.drop('Unnamed: 0', inplace=True, axis=1)"
      ]
    },
    {
      "cell_type": "code",
      "execution_count": 11,
      "metadata": {
        "id": "13gzixyosc5V"
      },
      "outputs": [],
      "source": [
        "df = df_validate.rename(columns={'title':'statement'})\n",
        "df = df.dropna(subset=['statement']).reset_index(drop=True)\n",
        "df = df.drop(['text'], axis=1)"
      ]
    },
    {
      "cell_type": "code",
      "execution_count": 12,
      "metadata": {
        "id": "igO-yK95skFA"
      },
      "outputs": [],
      "source": [
        "df_neg = df.copy()"
      ]
    },
    {
      "cell_type": "code",
      "execution_count": null,
      "metadata": {
        "id": "8I4jfu5q2Opg"
      },
      "outputs": [],
      "source": [
        "for i in df_neg.index:\n",
        "  negated_sentence = negator.negate_sentence(df_neg['statement'][i])\n",
        "  df_neg['statement'][i] = negated_sentence"
      ]
    },
    {
      "cell_type": "code",
      "execution_count": 14,
      "metadata": {
        "colab": {
          "base_uri": "https://localhost:8080/",
          "height": 423
        },
        "id": "Qsyg3nUQBV_C",
        "outputId": "4ced99a9-1a96-4091-9ed4-d84e29713511"
      },
      "outputs": [
        {
          "data": {
            "text/html": [
              "<div>\n",
              "<style scoped>\n",
              "    .dataframe tbody tr th:only-of-type {\n",
              "        vertical-align: middle;\n",
              "    }\n",
              "\n",
              "    .dataframe tbody tr th {\n",
              "        vertical-align: top;\n",
              "    }\n",
              "\n",
              "    .dataframe thead th {\n",
              "        text-align: right;\n",
              "    }\n",
              "</style>\n",
              "<table border=\"1\" class=\"dataframe\">\n",
              "  <thead>\n",
              "    <tr style=\"text-align: right;\">\n",
              "      <th></th>\n",
              "      <th>statement</th>\n",
              "      <th>label</th>\n",
              "    </tr>\n",
              "  </thead>\n",
              "  <tbody>\n",
              "    <tr>\n",
              "      <th>0</th>\n",
              "      <td>Trump doesn't say to spend extra day in Philip...</td>\n",
              "      <td>1</td>\n",
              "    </tr>\n",
              "    <tr>\n",
              "      <th>1</th>\n",
              "      <td>Fire in Bangladesh textile factory doesn't kil...</td>\n",
              "      <td>1</td>\n",
              "    </tr>\n",
              "    <tr>\n",
              "      <th>2</th>\n",
              "      <td>Myanmar army doesn't drop charges against six ...</td>\n",
              "      <td>1</td>\n",
              "    </tr>\n",
              "    <tr>\n",
              "      <th>3</th>\n",
              "      <td>Mentally-Ill Mother doesn't shoot Sleeping Fiv...</td>\n",
              "      <td>0</td>\n",
              "    </tr>\n",
              "    <tr>\n",
              "      <th>4</th>\n",
              "      <td>No formal U.S. delegation to Castro memorial: ...</td>\n",
              "      <td>1</td>\n",
              "    </tr>\n",
              "    <tr>\n",
              "      <th>...</th>\n",
              "      <td>...</td>\n",
              "      <td>...</td>\n",
              "    </tr>\n",
              "    <tr>\n",
              "      <th>8112</th>\n",
              "      <td>Boiler Room #92 – The (Hollywood) Hills don't ...</td>\n",
              "      <td>0</td>\n",
              "    </tr>\n",
              "    <tr>\n",
              "      <th>8113</th>\n",
              "      <td>Putin: restriction on Russian media isn't atta...</td>\n",
              "      <td>1</td>\n",
              "    </tr>\n",
              "    <tr>\n",
              "      <th>8114</th>\n",
              "      <td>REVENGE ATTACK ON MUSLIMS: VAN PLOWS INTO CROW...</td>\n",
              "      <td>0</td>\n",
              "    </tr>\n",
              "    <tr>\n",
              "      <th>8115</th>\n",
              "      <td>This Mainstream News Organization Thinks Trump...</td>\n",
              "      <td>0</td>\n",
              "    </tr>\n",
              "    <tr>\n",
              "      <th>8116</th>\n",
              "      <td>Kushner doesn't look for buyers for New York O...</td>\n",
              "      <td>1</td>\n",
              "    </tr>\n",
              "  </tbody>\n",
              "</table>\n",
              "<p>8117 rows × 2 columns</p>\n",
              "</div>"
            ],
            "text/plain": [
              "                                              statement  label\n",
              "0     Trump doesn't say to spend extra day in Philip...      1\n",
              "1     Fire in Bangladesh textile factory doesn't kil...      1\n",
              "2     Myanmar army doesn't drop charges against six ...      1\n",
              "3     Mentally-Ill Mother doesn't shoot Sleeping Fiv...      0\n",
              "4     No formal U.S. delegation to Castro memorial: ...      1\n",
              "...                                                 ...    ...\n",
              "8112  Boiler Room #92 – The (Hollywood) Hills don't ...      0\n",
              "8113  Putin: restriction on Russian media isn't atta...      1\n",
              "8114  REVENGE ATTACK ON MUSLIMS: VAN PLOWS INTO CROW...      0\n",
              "8115  This Mainstream News Organization Thinks Trump...      0\n",
              "8116  Kushner doesn't look for buyers for New York O...      1\n",
              "\n",
              "[8117 rows x 2 columns]"
            ]
          },
          "execution_count": 14,
          "metadata": {},
          "output_type": "execute_result"
        }
      ],
      "source": [
        "df_neg"
      ]
    },
    {
      "cell_type": "code",
      "execution_count": null,
      "metadata": {
        "id": "-sKpW1VyC9Mw"
      },
      "outputs": [],
      "source": [
        "df_original = df.rename(columns={'statement':'original statement'})"
      ]
    },
    {
      "cell_type": "code",
      "execution_count": null,
      "metadata": {
        "id": "pu-wGG4PDarS"
      },
      "outputs": [],
      "source": [
        "df_negated = df_neg.rename(columns={'statement':'perturbed statement'})"
      ]
    },
    {
      "cell_type": "code",
      "execution_count": null,
      "metadata": {
        "id": "Y7OhQEHSGWzs"
      },
      "outputs": [],
      "source": [
        "df_original_10 = df_original.head(10)"
      ]
    },
    {
      "cell_type": "code",
      "execution_count": null,
      "metadata": {
        "id": "zbC0y5LAGdU3"
      },
      "outputs": [],
      "source": [
        "df_negated_10 = df_negated.head(10)"
      ]
    },
    {
      "cell_type": "code",
      "execution_count": null,
      "metadata": {
        "id": "baFtgRBdDlA6"
      },
      "outputs": [],
      "source": [
        "df_combined= [df_original_10['original statement'],df_negated_10['perturbed statement']]"
      ]
    },
    {
      "cell_type": "code",
      "execution_count": null,
      "metadata": {
        "id": "0nZbt4XVIygP"
      },
      "outputs": [],
      "source": [
        "df_combined = pd.DataFrame(df_combined)"
      ]
    },
    {
      "cell_type": "code",
      "execution_count": null,
      "metadata": {
        "colab": {
          "base_uri": "https://localhost:8080/",
          "height": 331
        },
        "id": "GlHm9H2TC018",
        "outputId": "947274d6-37a2-47de-cc75-068c172dd353"
      },
      "outputs": [
        {
          "data": {
            "text/html": [
              "\n",
              "  <div id=\"df-0631b431-afe4-40d4-a0cb-0b6b75be27ff\">\n",
              "    <div class=\"colab-df-container\">\n",
              "      <div>\n",
              "<style scoped>\n",
              "    .dataframe tbody tr th:only-of-type {\n",
              "        vertical-align: middle;\n",
              "    }\n",
              "\n",
              "    .dataframe tbody tr th {\n",
              "        vertical-align: top;\n",
              "    }\n",
              "\n",
              "    .dataframe thead th {\n",
              "        text-align: right;\n",
              "    }\n",
              "</style>\n",
              "<table border=\"1\" class=\"dataframe\">\n",
              "  <thead>\n",
              "    <tr style=\"text-align: right;\">\n",
              "      <th></th>\n",
              "      <th>0</th>\n",
              "      <th>1</th>\n",
              "      <th>2</th>\n",
              "      <th>3</th>\n",
              "      <th>4</th>\n",
              "      <th>5</th>\n",
              "      <th>6</th>\n",
              "      <th>7</th>\n",
              "      <th>8</th>\n",
              "      <th>9</th>\n",
              "    </tr>\n",
              "  </thead>\n",
              "  <tbody>\n",
              "    <tr>\n",
              "      <th>original statement</th>\n",
              "      <td>‘Maury’ Show Official Facebook Posts F*CKED UP Caption On Guest That Looks Like Ted Cruz (IMAGE)</td>\n",
              "      <td>Trump’s Favorite News Channel Tries To Soothe His Battered Ego – Gets Taken To The Cleaners</td>\n",
              "      <td>Russia warns Iraq, Kurds not to destabilize Middle East after Kurdish vote</td>\n",
              "      <td>WATCH STEVE SCALISE Throw A Strike At The Nationals Baseball Game [Video]</td>\n",
              "      <td>Trump Will HATE What Stephen Colbert Just Did To Him – It’s Pure Comedy Genius (VIDEO)</td>\n",
              "      <td>Trump Blasts Democrats: A ‘disgrace’ that Full Cabinet Not in Place, ‘Obstruction by Democrats!’</td>\n",
              "      <td>EU's Verhofstadt pokes fun at British PM May but says a Brexit deal can be done</td>\n",
              "      <td>Photographer killed in Mexico as journalist death toll nears record</td>\n",
              "      <td>NY Daily News Runs Most Explosive Trump Cover Yet; Says What We’re All Thinking (IMAGE)</td>\n",
              "      <td>BRILLIANT! CNN ASKS BLACK TRUMP SUPPORTER The Wrong Question…They Get Slammed! [Video]</td>\n",
              "    </tr>\n",
              "    <tr>\n",
              "      <th>perturbed statement</th>\n",
              "      <td>‘Maury’ don't show Official Facebook Posts F*CKED UP Caption On Guest That Looks Like Ted Cruz (IMAGE)</td>\n",
              "      <td>Trump’s Favorite News Channel Tries To don't soothe His Battered Ego – Gets Taken To The Cleaners</td>\n",
              "      <td>Russia doesn't warn Iraq, Kurds not to destabilize Middle East after Kurdish vote</td>\n",
              "      <td>Don't watch STEVE SCALISE Throw A Strike At The Nationals Baseball Game [Video]</td>\n",
              "      <td>Trump Will HATE What Stephen Colbert Just Did To Him – Itdoesn't ’s Pure Comedy Genius (VIDEO)</td>\n",
              "      <td>Trump Blasts Democrats: A ‘disgrace’ that Full Cabinet Not in Place, ‘Obstruction by Democrats!’</td>\n",
              "      <td>EU's Verhofstadt doesn't poke fun at British PM May but says a Brexit deal can be done</td>\n",
              "      <td>Photographer kill in Mexico as journalist death toll nears record</td>\n",
              "      <td>NY Daily News doesn't run Most Explosive Trump Cover Yet; Says What We’re All Thinking (IMAGE)</td>\n",
              "      <td>BRILLIANT! CNN ASKS BLACK TRUMP SUPPORTER The Wrong Question…They None Slammed! [Video]</td>\n",
              "    </tr>\n",
              "  </tbody>\n",
              "</table>\n",
              "</div>\n",
              "      <button class=\"colab-df-convert\" onclick=\"convertToInteractive('df-0631b431-afe4-40d4-a0cb-0b6b75be27ff')\"\n",
              "              title=\"Convert this dataframe to an interactive table.\"\n",
              "              style=\"display:none;\">\n",
              "        \n",
              "  <svg xmlns=\"http://www.w3.org/2000/svg\" height=\"24px\"viewBox=\"0 0 24 24\"\n",
              "       width=\"24px\">\n",
              "    <path d=\"M0 0h24v24H0V0z\" fill=\"none\"/>\n",
              "    <path d=\"M18.56 5.44l.94 2.06.94-2.06 2.06-.94-2.06-.94-.94-2.06-.94 2.06-2.06.94zm-11 1L8.5 8.5l.94-2.06 2.06-.94-2.06-.94L8.5 2.5l-.94 2.06-2.06.94zm10 10l.94 2.06.94-2.06 2.06-.94-2.06-.94-.94-2.06-.94 2.06-2.06.94z\"/><path d=\"M17.41 7.96l-1.37-1.37c-.4-.4-.92-.59-1.43-.59-.52 0-1.04.2-1.43.59L10.3 9.45l-7.72 7.72c-.78.78-.78 2.05 0 2.83L4 21.41c.39.39.9.59 1.41.59.51 0 1.02-.2 1.41-.59l7.78-7.78 2.81-2.81c.8-.78.8-2.07 0-2.86zM5.41 20L4 18.59l7.72-7.72 1.47 1.35L5.41 20z\"/>\n",
              "  </svg>\n",
              "      </button>\n",
              "      \n",
              "  <style>\n",
              "    .colab-df-container {\n",
              "      display:flex;\n",
              "      flex-wrap:wrap;\n",
              "      gap: 12px;\n",
              "    }\n",
              "\n",
              "    .colab-df-convert {\n",
              "      background-color: #E8F0FE;\n",
              "      border: none;\n",
              "      border-radius: 50%;\n",
              "      cursor: pointer;\n",
              "      display: none;\n",
              "      fill: #1967D2;\n",
              "      height: 32px;\n",
              "      padding: 0 0 0 0;\n",
              "      width: 32px;\n",
              "    }\n",
              "\n",
              "    .colab-df-convert:hover {\n",
              "      background-color: #E2EBFA;\n",
              "      box-shadow: 0px 1px 2px rgba(60, 64, 67, 0.3), 0px 1px 3px 1px rgba(60, 64, 67, 0.15);\n",
              "      fill: #174EA6;\n",
              "    }\n",
              "\n",
              "    [theme=dark] .colab-df-convert {\n",
              "      background-color: #3B4455;\n",
              "      fill: #D2E3FC;\n",
              "    }\n",
              "\n",
              "    [theme=dark] .colab-df-convert:hover {\n",
              "      background-color: #434B5C;\n",
              "      box-shadow: 0px 1px 3px 1px rgba(0, 0, 0, 0.15);\n",
              "      filter: drop-shadow(0px 1px 2px rgba(0, 0, 0, 0.3));\n",
              "      fill: #FFFFFF;\n",
              "    }\n",
              "  </style>\n",
              "\n",
              "      <script>\n",
              "        const buttonEl =\n",
              "          document.querySelector('#df-0631b431-afe4-40d4-a0cb-0b6b75be27ff button.colab-df-convert');\n",
              "        buttonEl.style.display =\n",
              "          google.colab.kernel.accessAllowed ? 'block' : 'none';\n",
              "\n",
              "        async function convertToInteractive(key) {\n",
              "          const element = document.querySelector('#df-0631b431-afe4-40d4-a0cb-0b6b75be27ff');\n",
              "          const dataTable =\n",
              "            await google.colab.kernel.invokeFunction('convertToInteractive',\n",
              "                                                     [key], {});\n",
              "          if (!dataTable) return;\n",
              "\n",
              "          const docLinkHtml = 'Like what you see? Visit the ' +\n",
              "            '<a target=\"_blank\" href=https://colab.research.google.com/notebooks/data_table.ipynb>data table notebook</a>'\n",
              "            + ' to learn more about interactive tables.';\n",
              "          element.innerHTML = '';\n",
              "          dataTable['output_type'] = 'display_data';\n",
              "          await google.colab.output.renderOutput(dataTable, element);\n",
              "          const docLink = document.createElement('div');\n",
              "          docLink.innerHTML = docLinkHtml;\n",
              "          element.appendChild(docLink);\n",
              "        }\n",
              "      </script>\n",
              "    </div>\n",
              "  </div>\n",
              "  "
            ],
            "text/plain": [
              "                                                                                                                          0  \\\n",
              "original statement         ‘Maury’ Show Official Facebook Posts F*CKED UP Caption On Guest That Looks Like Ted Cruz (IMAGE)   \n",
              "perturbed statement  ‘Maury’ don't show Official Facebook Posts F*CKED UP Caption On Guest That Looks Like Ted Cruz (IMAGE)   \n",
              "\n",
              "                                                                                                                     1  \\\n",
              "original statement         Trump’s Favorite News Channel Tries To Soothe His Battered Ego – Gets Taken To The Cleaners   \n",
              "perturbed statement  Trump’s Favorite News Channel Tries To don't soothe His Battered Ego – Gets Taken To The Cleaners   \n",
              "\n",
              "                                                                                                     2  \\\n",
              "original statement          Russia warns Iraq, Kurds not to destabilize Middle East after Kurdish vote   \n",
              "perturbed statement  Russia doesn't warn Iraq, Kurds not to destabilize Middle East after Kurdish vote   \n",
              "\n",
              "                                                                                                   3  \\\n",
              "original statement         WATCH STEVE SCALISE Throw A Strike At The Nationals Baseball Game [Video]   \n",
              "perturbed statement  Don't watch STEVE SCALISE Throw A Strike At The Nationals Baseball Game [Video]   \n",
              "\n",
              "                                                                                                                  4  \\\n",
              "original statement           Trump Will HATE What Stephen Colbert Just Did To Him – It’s Pure Comedy Genius (VIDEO)   \n",
              "perturbed statement  Trump Will HATE What Stephen Colbert Just Did To Him – Itdoesn't ’s Pure Comedy Genius (VIDEO)   \n",
              "\n",
              "                                                                                                                    5  \\\n",
              "original statement   Trump Blasts Democrats: A ‘disgrace’ that Full Cabinet Not in Place, ‘Obstruction by Democrats!’   \n",
              "perturbed statement  Trump Blasts Democrats: A ‘disgrace’ that Full Cabinet Not in Place, ‘Obstruction by Democrats!’   \n",
              "\n",
              "                                                                                                          6  \\\n",
              "original statement          EU's Verhofstadt pokes fun at British PM May but says a Brexit deal can be done   \n",
              "perturbed statement  EU's Verhofstadt doesn't poke fun at British PM May but says a Brexit deal can be done   \n",
              "\n",
              "                                                                                       7  \\\n",
              "original statement   Photographer killed in Mexico as journalist death toll nears record   \n",
              "perturbed statement    Photographer kill in Mexico as journalist death toll nears record   \n",
              "\n",
              "                                                                                                                  8  \\\n",
              "original statement          NY Daily News Runs Most Explosive Trump Cover Yet; Says What We’re All Thinking (IMAGE)   \n",
              "perturbed statement  NY Daily News doesn't run Most Explosive Trump Cover Yet; Says What We’re All Thinking (IMAGE)   \n",
              "\n",
              "                                                                                                           9  \n",
              "original statement    BRILLIANT! CNN ASKS BLACK TRUMP SUPPORTER The Wrong Question…They Get Slammed! [Video]  \n",
              "perturbed statement  BRILLIANT! CNN ASKS BLACK TRUMP SUPPORTER The Wrong Question…They None Slammed! [Video]  "
            ]
          },
          "execution_count": 50,
          "metadata": {},
          "output_type": "execute_result"
        }
      ],
      "source": [
        "df_combined"
      ]
    },
    {
      "cell_type": "code",
      "execution_count": 15,
      "metadata": {
        "id": "jAYS_-H_LWu2"
      },
      "outputs": [],
      "source": [
        "df_neg.to_csv('C:/Users/natal/Documents/NLP/negated_data_using_negated_library_val.csv')"
      ]
    }
  ],
  "metadata": {
    "colab": {
      "provenance": []
    },
    "kernelspec": {
      "display_name": "Python 3",
      "name": "python3"
    },
    "language_info": {
      "codemirror_mode": {
        "name": "ipython",
        "version": 3
      },
      "file_extension": ".py",
      "mimetype": "text/x-python",
      "name": "python",
      "nbconvert_exporter": "python",
      "pygments_lexer": "ipython3",
      "version": "3.11.3"
    }
  },
  "nbformat": 4,
  "nbformat_minor": 0
}
